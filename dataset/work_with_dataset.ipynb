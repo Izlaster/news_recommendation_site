{
 "cells": [
  {
   "cell_type": "code",
   "execution_count": 1,
   "id": "1638c623-0400-4152-8710-89c41b366421",
   "metadata": {},
   "outputs": [],
   "source": [
    "import pandas as pd"
   ]
  },
  {
   "cell_type": "code",
   "execution_count": 3,
   "id": "a000163d-41f4-4926-a665-c36e42f53ce5",
   "metadata": {},
   "outputs": [],
   "source": [
    "df = pd.read_csv('lenta-ru-news.csv', low_memory=False)"
   ]
  },
  {
   "cell_type": "code",
   "execution_count": 4,
   "id": "db9fef05",
   "metadata": {},
   "outputs": [],
   "source": [
    "tags = ['Политика',\n",
    "'Общество',\n",
    "'Украина',\n",
    "'Происшествия',\n",
    "'Госэкономика',\n",
    "'Футбол',\n",
    "'Кино',\n",
    "'Интернет',\n",
    "'Бизнес',\n",
    "'Следствие и суд',\n",
    "'Наука',\n",
    "'Музыка']"
   ]
  },
  {
   "cell_type": "code",
   "execution_count": 5,
   "id": "eec1b88a",
   "metadata": {},
   "outputs": [],
   "source": [
    "df = df[df[\"tags\"].isin(tags)]"
   ]
  },
  {
   "cell_type": "code",
   "execution_count": 6,
   "id": "41462f10-fd94-4cb4-ae81-834aaa00c6f9",
   "metadata": {},
   "outputs": [],
   "source": [
    "df['likes'] = 0"
   ]
  },
  {
   "cell_type": "code",
   "execution_count": 7,
   "id": "c64e3a22-2481-449e-aecc-2939dda52cba",
   "metadata": {},
   "outputs": [
    {
     "data": {
      "text/html": [
       "<div>\n",
       "<style scoped>\n",
       "    .dataframe tbody tr th:only-of-type {\n",
       "        vertical-align: middle;\n",
       "    }\n",
       "\n",
       "    .dataframe tbody tr th {\n",
       "        vertical-align: top;\n",
       "    }\n",
       "\n",
       "    .dataframe thead th {\n",
       "        text-align: right;\n",
       "    }\n",
       "</style>\n",
       "<table border=\"1\" class=\"dataframe\">\n",
       "  <thead>\n",
       "    <tr style=\"text-align: right;\">\n",
       "      <th></th>\n",
       "      <th>url</th>\n",
       "      <th>title</th>\n",
       "      <th>text</th>\n",
       "      <th>topic</th>\n",
       "      <th>tags</th>\n",
       "      <th>date</th>\n",
       "      <th>likes</th>\n",
       "    </tr>\n",
       "  </thead>\n",
       "  <tbody>\n",
       "    <tr>\n",
       "      <th>226891</th>\n",
       "      <td>https://lenta.ru/news/2008/04/25/snipes/</td>\n",
       "      <td>Уэсли Снайпса приговорили к трем годам тюрьмы</td>\n",
       "      <td>Американского актера Уэсли Снайпса в четверг п...</td>\n",
       "      <td>Культура</td>\n",
       "      <td>Кино</td>\n",
       "      <td>2008/04/25</td>\n",
       "      <td>0</td>\n",
       "    </tr>\n",
       "    <tr>\n",
       "      <th>307184</th>\n",
       "      <td>https://lenta.ru/news/2009/11/13/birth/</td>\n",
       "      <td>Сеульские власти повысят рождаемость путем орг...</td>\n",
       "      <td>Власти одного из районов столицы Южной Кореи з...</td>\n",
       "      <td>Мир</td>\n",
       "      <td>Общество</td>\n",
       "      <td>2009/11/13</td>\n",
       "      <td>0</td>\n",
       "    </tr>\n",
       "    <tr>\n",
       "      <th>377604</th>\n",
       "      <td>https://lenta.ru/news/2011/06/08/killerbear/</td>\n",
       "      <td>Канадских автомобилистов убило сбитым на дорог...</td>\n",
       "      <td>На трассе в Канаде произошло ДТП с участием ме...</td>\n",
       "      <td>Мир</td>\n",
       "      <td>Происшествия</td>\n",
       "      <td>2011/06/08</td>\n",
       "      <td>0</td>\n",
       "    </tr>\n",
       "    <tr>\n",
       "      <th>421323</th>\n",
       "      <td>https://lenta.ru/news/2012/05/23/travelwithcar/</td>\n",
       "      <td>РЖД разрешит пассажирам путешествовать с автом...</td>\n",
       "      <td>\"Федеральная пассажирская компания\", входящая ...</td>\n",
       "      <td>Экономика</td>\n",
       "      <td>Бизнес</td>\n",
       "      <td>2012/05/23</td>\n",
       "      <td>0</td>\n",
       "    </tr>\n",
       "    <tr>\n",
       "      <th>444694</th>\n",
       "      <td>https://lenta.ru/news/2012/11/27/poezd/</td>\n",
       "      <td>РЖД впервые перевезла пассажиров с личными авт...</td>\n",
       "      <td>Вечером 26 ноября 2012 года из Москвы в Хельси...</td>\n",
       "      <td>Экономика</td>\n",
       "      <td>Бизнес</td>\n",
       "      <td>2012/11/27</td>\n",
       "      <td>0</td>\n",
       "    </tr>\n",
       "  </tbody>\n",
       "</table>\n",
       "</div>"
      ],
      "text/plain": [
       "                                                    url  \\\n",
       "226891         https://lenta.ru/news/2008/04/25/snipes/   \n",
       "307184          https://lenta.ru/news/2009/11/13/birth/   \n",
       "377604     https://lenta.ru/news/2011/06/08/killerbear/   \n",
       "421323  https://lenta.ru/news/2012/05/23/travelwithcar/   \n",
       "444694          https://lenta.ru/news/2012/11/27/poezd/   \n",
       "\n",
       "                                                    title  \\\n",
       "226891      Уэсли Снайпса приговорили к трем годам тюрьмы   \n",
       "307184  Сеульские власти повысят рождаемость путем орг...   \n",
       "377604  Канадских автомобилистов убило сбитым на дорог...   \n",
       "421323  РЖД разрешит пассажирам путешествовать с автом...   \n",
       "444694  РЖД впервые перевезла пассажиров с личными авт...   \n",
       "\n",
       "                                                     text      topic  \\\n",
       "226891  Американского актера Уэсли Снайпса в четверг п...   Культура   \n",
       "307184  Власти одного из районов столицы Южной Кореи з...        Мир   \n",
       "377604  На трассе в Канаде произошло ДТП с участием ме...        Мир   \n",
       "421323  \"Федеральная пассажирская компания\", входящая ...  Экономика   \n",
       "444694  Вечером 26 ноября 2012 года из Москвы в Хельси...  Экономика   \n",
       "\n",
       "                tags        date  likes  \n",
       "226891          Кино  2008/04/25      0  \n",
       "307184      Общество  2009/11/13      0  \n",
       "377604  Происшествия  2011/06/08      0  \n",
       "421323        Бизнес  2012/05/23      0  \n",
       "444694        Бизнес  2012/11/27      0  "
      ]
     },
     "execution_count": 7,
     "metadata": {},
     "output_type": "execute_result"
    }
   ],
   "source": [
    "df.head()"
   ]
  },
  {
   "cell_type": "code",
   "execution_count": 8,
   "id": "535e5995-49aa-40eb-9535-b2ff768b2142",
   "metadata": {},
   "outputs": [],
   "source": [
    "df.to_csv('lenta-ru-news-likes.csv', index=False)"
   ]
  },
  {
   "cell_type": "code",
   "execution_count": null,
   "id": "15e0a267",
   "metadata": {},
   "outputs": [],
   "source": []
  }
 ],
 "metadata": {
  "kernelspec": {
   "display_name": "flask-news-tpboAFHs-py3.11",
   "language": "python",
   "name": "python3"
  },
  "language_info": {
   "codemirror_mode": {
    "name": "ipython",
    "version": 3
   },
   "file_extension": ".py",
   "mimetype": "text/x-python",
   "name": "python",
   "nbconvert_exporter": "python",
   "pygments_lexer": "ipython3",
   "version": "3.11.9"
  }
 },
 "nbformat": 4,
 "nbformat_minor": 5
}
